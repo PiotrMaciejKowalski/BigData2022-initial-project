{
 "cells": [
  {
   "cell_type": "code",
   "execution_count": 1,
   "metadata": {},
   "outputs": [],
   "source": [
    "import os\n",
    "\n",
    "while 'notebooks' in os.getcwd():\n",
    "    os.chdir(\"../\")"
   ]
  },
  {
   "cell_type": "markdown",
   "metadata": {},
   "source": [
    "# Opis notatnika\n",
    "\n",
    "Dobrze napisać na początku po co istnieje ten notatnik i co dodaje do projektu. \n",
    "\n",
    "Notatnik który reprezentuje jakąś część przetwarzania powinno się zapisywać do repo po wykonaniu `Clear Output of All Cells` by nie wykazywać w PR nieistotnych zmian. Ale czasem zapisuje się notatniki z outputem i wtedy traktuje się je jako końcowe raporty."
   ]
  },
  {
   "cell_type": "code",
   "execution_count": null,
   "metadata": {},
   "outputs": [],
   "source": [
    "# Wszystkie importy na początku \n",
    "# pozwala to pilnować zależności w projekcie\n",
    "# kolejność importów \n",
    "# - od bibliotek o dużej ogólności\n",
    "# - poprzez zależności do cudzych projektów \n",
    "# - do własnych plików z lib/"
   ]
  }
 ],
 "metadata": {
  "kernelspec": {
   "display_name": "Python 3.9.5 64-bit",
   "language": "python",
   "name": "python3"
  },
  "language_info": {
   "codemirror_mode": {
    "name": "ipython",
    "version": 3
   },
   "file_extension": ".py",
   "mimetype": "text/x-python",
   "name": "python",
   "nbconvert_exporter": "python",
   "pygments_lexer": "ipython3",
   "version": "3.9.5"
  },
  "orig_nbformat": 4,
  "vscode": {
   "interpreter": {
    "hash": "f9f85f796d01129d0dd105a088854619f454435301f6ffec2fea96ecbd9be4ac"
   }
  }
 },
 "nbformat": 4,
 "nbformat_minor": 2
}
