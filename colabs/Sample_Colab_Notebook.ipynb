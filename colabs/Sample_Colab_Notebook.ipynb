{
  "nbformat": 4,
  "nbformat_minor": 0,
  "metadata": {
    "colab": {
      "provenance": [],
      "collapsed_sections": [],
      "toc_visible": true,
      "authorship_tag": "ABX9TyNt0SleduONHEkS/CGVy1mG",
      "include_colab_link": true
    },
    "kernelspec": {
      "name": "python3",
      "display_name": "Python 3"
    },
    "language_info": {
      "name": "python"
    }
  },
  "cells": [
    {
      "cell_type": "markdown",
      "metadata": {
        "id": "view-in-github",
        "colab_type": "text"
      },
      "source": [
        "<a href=\"https://colab.research.google.com/github/PiotrMaciejKowalski/BigData2022-initial-project/blob/CU-2zj0mev_Przetestowapoczenie-z-google-colab/colabs/Sample_Colab_Notebook.ipynb\" target=\"_parent\"><img src=\"https://colab.research.google.com/assets/colab-badge.svg\" alt=\"Open In Colab\"/></a>"
      ]
    },
    {
      "cell_type": "markdown",
      "source": [
        "# Sample colab notebook\n",
        "\n",
        "W notatniku prezentujemy sposób na połaczenie projektu realizowanego na githubie (kod z lib) z pracą w notatnikach Google Colab "
      ],
      "metadata": {
        "id": "gu0qt2QwNg5W"
      }
    },
    {
      "cell_type": "markdown",
      "source": [
        "# Checkout projektu\n",
        "\n",
        "Musimy kolejno zarezerwować przestrzeń dla naszych pobrać - np. w obszarze chmury. Jeśli chcemy robić checkout jednorazowo. Inaczej możemy pominąć całą subsekcję"
      ],
      "metadata": {
        "id": "1BXGGyQgOvzV"
      }
    },
    {
      "cell_type": "markdown",
      "source": [
        "## Dodanie chmury"
      ],
      "metadata": {
        "id": "u8nau6xNRHTL"
      }
    },
    {
      "cell_type": "code",
      "source": [
        "from google.colab import drive\n",
        "drive.mount('/content/gdrive')"
      ],
      "metadata": {
        "colab": {
          "base_uri": "https://localhost:8080/"
        },
        "id": "00ezTTJ1PlbV",
        "outputId": "7b0fa1d2-ef4d-4184-dee6-69290d03fec1"
      },
      "execution_count": 10,
      "outputs": [
        {
          "output_type": "stream",
          "name": "stdout",
          "text": [
            "Mounted at /content/gdrive\n"
          ]
        }
      ]
    },
    {
      "cell_type": "code",
      "source": [
        "%cd gdrive/MyDrive/"
      ],
      "metadata": {
        "colab": {
          "base_uri": "https://localhost:8080/"
        },
        "id": "tnU6LojkPwmB",
        "outputId": "6d5d7a9d-f86b-4dd4-9fdb-d6214404ffbc"
      },
      "execution_count": 11,
      "outputs": [
        {
          "output_type": "stream",
          "name": "stdout",
          "text": [
            "/content/gdrive/MyDrive\n"
          ]
        }
      ]
    },
    {
      "cell_type": "markdown",
      "source": [
        "## Checkout i przejście do projektu"
      ],
      "metadata": {
        "id": "24GSA2ByRKu4"
      }
    },
    {
      "cell_type": "code",
      "source": [
        "!git clone https://github.com/PiotrMaciejKowalski/BigData2022-initial-project.git project"
      ],
      "metadata": {
        "colab": {
          "base_uri": "https://localhost:8080/"
        },
        "id": "xbZbPHsvO0yC",
        "outputId": "245b9fc9-d21c-4ca8-ceab-f611c65e6d0b"
      },
      "execution_count": 2,
      "outputs": [
        {
          "output_type": "stream",
          "name": "stdout",
          "text": [
            "Cloning into 'project'...\n",
            "remote: Enumerating objects: 48, done.\u001b[K\n",
            "remote: Counting objects: 100% (48/48), done.\u001b[K\n",
            "remote: Compressing objects: 100% (38/38), done.\u001b[K\n",
            "remote: Total 48 (delta 16), reused 15 (delta 0), pack-reused 0\u001b[K\n",
            "Unpacking objects: 100% (48/48), done.\n"
          ]
        }
      ]
    },
    {
      "cell_type": "code",
      "source": [
        "%cd project"
      ],
      "metadata": {
        "colab": {
          "base_uri": "https://localhost:8080/"
        },
        "id": "IFE3wVbZPOZ5",
        "outputId": "c051f42f-b005-4847-937f-3025fe36ce4d"
      },
      "execution_count": 4,
      "outputs": [
        {
          "output_type": "stream",
          "name": "stdout",
          "text": [
            "/content/project\n"
          ]
        }
      ]
    },
    {
      "cell_type": "markdown",
      "source": [
        "UWAGA - jeszcze innym rozwiązaniem do tego problemu jest utworzenie ze swojego projektu paczki pythonowej, którą można by zainstalować komendrą `pip install`. Ale to opcja zaawansowana i na dzisiaj ją pominiemy, bowiem wymaga zdefiniowania `setup` dla kodu pythonowego"
      ],
      "metadata": {
        "id": "_pDZwGrIRYM4"
      }
    },
    {
      "cell_type": "markdown",
      "source": [
        "# Wywołanie biblioteczne"
      ],
      "metadata": {
        "id": "4c64gVjnR1Om"
      }
    },
    {
      "cell_type": "code",
      "source": [
        "from lib.sample_class import sample_function\n",
        "\n",
        "print(sample_function())"
      ],
      "metadata": {
        "colab": {
          "base_uri": "https://localhost:8080/"
        },
        "id": "Zrv7nYPoOqoQ",
        "outputId": "6bcc5bdf-b59f-48fb-bb13-460e0bed13c8"
      },
      "execution_count": 6,
      "outputs": [
        {
          "output_type": "stream",
          "name": "stdout",
          "text": [
            "1\n"
          ]
        }
      ]
    }
  ]
}